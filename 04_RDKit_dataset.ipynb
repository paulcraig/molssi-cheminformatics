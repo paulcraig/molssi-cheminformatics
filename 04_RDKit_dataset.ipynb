{
 "cells": [
  {
   "cell_type": "markdown",
   "id": "18f7115f-1d6e-4128-aeaa-500d29912559",
   "metadata": {},
   "source": [
    "<div style=\"text-align:center;\">\n",
    "  <img src=\"custom/molssi_main_horizontal.png\" style=\"display: block; margin: 0 auto; max-height:200px;\">\n",
    "</div>\n",
    "\n",
    "# Using RDKit to Build a Dataset\n",
    "\n",
    "<strong>Author(s):</strong> Jessica A. Nash, The Molecular Sciences Software Institute\n",
    "\n",
    "<div class=\"alert alert-block alert-warning\"> \n",
    "<h2>Day 1: Final Challenge</h2>\n",
    "\n",
    "There is a file called `amino_acids.txt` in the `data` folder that contains SMILES for the 20 naturally occurring amino acids. Your task for the final challenge of today is to combine skills and concepts from MolSSI's Python Data and Scripting course with concepts you have learned today to build a dataset for molecules and write a file. Your goal is to create a comma-separated value file with columns `SMILES`, `num_heavy` (number of heavy atoms), `molecular_weight`, and one other molecular descriptor of your choice for the molecules in the file.\n",
    "\n",
    "For this task, you will need to:\n",
    "\n",
    "1. Read SMILES from a text file.\n",
    "2. Make an RDKit molecule for each SMILES.\n",
    "3. Get the number of heavy atoms, molecular weight, and one other descriptor of your choice.\n",
    "4. Write a file with the data\n",
    "\n",
    "Save your file as `data/amino_acids_processed.csv`.\n",
    "\n",
    "</div>"
   ]
  },
  {
   "cell_type": "markdown",
   "id": "1576e9c3-ec78-4dbb-be04-1748a997ef17",
   "metadata": {},
   "source": [
    "## Read SMILES from a text file."
   ]
  },
  {
   "cell_type": "code",
   "execution_count": null,
   "id": "d95ee21b-2c0e-444c-a021-81ca21d1f3a2",
   "metadata": {},
   "outputs": [],
   "source": [
    "import os\n",
    "from rdkit import Chem\n",
    "from rdkit.Chem import Descriptors\n",
    "import pandas as pd"
   ]
  },
  {
   "cell_type": "code",
   "execution_count": null,
   "id": "f2d10e3a-a284-4593-9353-072bbd7fe7b2",
   "metadata": {},
   "outputs": [],
   "source": [
    "os.listdir('data')\n",
    "aa_file = os.path.join('data', 'amino_acids.txt')\n",
    "with open(aa_file,'r') as outfile:\n",
    "    data = outfile.readlines()"
   ]
  },
  {
   "cell_type": "code",
   "execution_count": null,
   "id": "f329dff1-e47a-429a-b411-6b78486d9564",
   "metadata": {},
   "outputs": [],
   "source": [
    "print(data)\n",
    "type(data)"
   ]
  },
  {
   "cell_type": "markdown",
   "id": "ba750381-da2f-4760-a63f-963124e7dcfb",
   "metadata": {},
   "source": [
    "## Make an RDKit molecule for each SMILES."
   ]
  },
  {
   "cell_type": "code",
   "execution_count": null,
   "id": "ad49ffe4-5f47-4ee9-b93a-9f0c3f21d876",
   "metadata": {},
   "outputs": [],
   "source": [
    "molecules = []\n",
    "for item in data:\n",
    "    amino_acid = Chem.MolFromSmiles(item)\n",
    "    molecules.append(amino_acid)\n",
    "\n",
    "amino_acid_df = pd.DataFrame(\n",
    "    {'SMILES': data})"
   ]
  },
  {
   "cell_type": "markdown",
   "id": "d6ed2111-36b3-4076-8aff-76e61a518de3",
   "metadata": {},
   "source": [
    "## Get the number of heavy atoms, molecular weight, and one other descriptor of your choice."
   ]
  },
  {
   "cell_type": "code",
   "execution_count": null,
   "id": "35aeec15-9356-47db-90c5-433f5bb439c9",
   "metadata": {},
   "outputs": [],
   "source": [
    "heavy_atoms = []\n",
    "mw = []\n",
    "num_val_e = []\n",
    "\n",
    "for item in molecules:\n",
    "    heavy_atoms.append(item.GetNumHeavyAtoms())\n",
    "    molecular_weight = Descriptors.MolWt(item)\n",
    "    mw.append(molecular_weight)\n",
    "    elec = Descriptors.NumValenceElectrons(item)\n",
    "    num_val_e.append(elec)\n",
    "\n",
    "amino_acid_df['Heavy Atoms'] = heavy_atoms\n",
    "amino_acid_df['Molecular Weight'] = mw\n",
    "amino_acid_df['# Valence Electrons'] = num_val_e\n",
    "amino_acid_df.head()"
   ]
  },
  {
   "cell_type": "markdown",
   "id": "19d1bb5e-4937-485a-9e93-00f12c9828ce",
   "metadata": {},
   "source": [
    "## Write a file with the data."
   ]
  },
  {
   "cell_type": "code",
   "execution_count": null,
   "id": "9ca5a19d-bece-4915-862e-55d6c44c47a4",
   "metadata": {},
   "outputs": [],
   "source": [
    "outputfile = os.path.join('data', 'amino_acid_dataset.csv')\n",
    "amino_acid_df.to_csv(outputfile)"
   ]
  },
  {
   "cell_type": "code",
   "execution_count": null,
   "id": "17e5ca74-3f0d-4158-b5e2-3bb0fb5cab1f",
   "metadata": {},
   "outputs": [],
   "source": []
  }
 ],
 "metadata": {
  "kernelspec": {
   "display_name": "Python 3 (ipykernel)",
   "language": "python",
   "name": "python3"
  },
  "language_info": {
   "codemirror_mode": {
    "name": "ipython",
    "version": 3
   },
   "file_extension": ".py",
   "mimetype": "text/x-python",
   "name": "python",
   "nbconvert_exporter": "python",
   "pygments_lexer": "ipython3",
   "version": "3.12.2"
  }
 },
 "nbformat": 4,
 "nbformat_minor": 5
}
