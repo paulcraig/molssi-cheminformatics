{
 "cells": [
  {
   "cell_type": "markdown",
   "id": "18f7115f-1d6e-4128-aeaa-500d29912559",
   "metadata": {},
   "source": [
    "<div style=\"text-align:center;\">\n",
    "  <img src=\"custom/molssi_main_horizontal.png\" style=\"display: block; margin: 0 auto; max-height:200px;\">\n",
    "</div>\n",
    "\n",
    "# Using RDKit to Build a Dataset\n",
    "\n",
    "<strong>Author(s):</strong> Jessica A. Nash, The Molecular Sciences Software Institute\n",
    "\n",
    "<div class=\"alert alert-block alert-warning\"> \n",
    "<h2>Day 1: Final Challenge</h2>\n",
    "\n",
    "There is a file called `amino_acids.txt` in the `data` folder that contains SMILES for the 20 naturally occurring amino acids. Your task for the final challenge of today is to combine skills and concepts from MolSSI's Python Data and Scripting course with concepts you have learned today to build a dataset for molecules and write a file. Your goal is to create a comma-separated value file with columns `SMILES`, `num_heavy` (number of heavy atoms), `molecular_weight`, and one other molecular descriptor of your choice for the molecules in the file.\n",
    "\n",
    "For this task, you will need to:\n",
    "\n",
    "1. Read SMILES from a text file.\n",
    "2. Make an RDKit molecule for each SMILES.\n",
    "3. Get the number of heavy atoms, molecular weight, and one other descriptor of your choice.\n",
    "4. Write a file with the data\n",
    "\n",
    "Save your file as `data/amino_acids_processed.csv`.\n",
    "\n",
    "</div>"
   ]
  },
  {
   "cell_type": "code",
   "execution_count": null,
   "id": "34786210-5a68-4c5a-bbc9-22f18dabbbb3",
   "metadata": {},
   "outputs": [],
   "source": [
    "from rdkit import Chem\n",
    "from rdkit.Chem import Descriptors\n",
    "\n",
    "# this solution picks TPSA\n",
    "\n",
    "import numpy as np\n",
    "\n",
    "# Read SMILES strings from a file\n",
    "with open(\"data/amino_acids.txt\", \"r\") as f:\n",
    "    amino_acid_smiles = f.readlines()\n",
    "\n",
    "# Prepare lists to store molecular weights and number of heavy atoms\n",
    "molecules = []\n",
    "molecular_weight = []\n",
    "number_heavy = []\n",
    "output_string = \"SMILES,num_heavy,molecular_weight,tpsa\\n\"\n",
    "\n",
    "# Compute molecular descriptors\n",
    "for smiles in amino_acid_smiles:\n",
    "    smiles = smiles.strip()\n",
    "    mol = Chem.MolFromSmiles(smiles.strip())\n",
    "    if mol:\n",
    "        molecules.append(mol)\n",
    "        mol_weight = Descriptors.MolWt(mol)\n",
    "        num_heavy = Descriptors.HeavyAtomCount(mol)\n",
    "        molecular_weight.append(mol_weight)\n",
    "        number_heavy.append(num_heavy)\n",
    "        tpsa = Descriptors.rdMolDescriptors.CalcTPSA(mol)\n",
    "        output_string += f\"{smiles},{num_heavy},{mol_weight},{tpsa}\\n\"\n",
    "        \n",
    "with open(\"data/amino_acids_processed.csv\", \"w+\") as f:\n",
    "    f.write(output_string)\n"
   ]
  },
  {
   "cell_type": "code",
   "execution_count": null,
   "id": "d95ee21b-2c0e-444c-a021-81ca21d1f3a2",
   "metadata": {},
   "outputs": [],
   "source": []
  }
 ],
 "metadata": {
  "kernelspec": {
   "display_name": "Python 3 (ipykernel)",
   "language": "python",
   "name": "python3"
  },
  "language_info": {
   "codemirror_mode": {
    "name": "ipython",
    "version": 3
   },
   "file_extension": ".py",
   "mimetype": "text/x-python",
   "name": "python",
   "nbconvert_exporter": "python",
   "pygments_lexer": "ipython3",
   "version": "3.12.2"
  }
 },
 "nbformat": 4,
 "nbformat_minor": 5
}
